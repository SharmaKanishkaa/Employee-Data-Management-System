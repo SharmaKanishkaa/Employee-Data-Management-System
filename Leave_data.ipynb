{
 "cells": [
  {
   "cell_type": "code",
   "execution_count": 1,
   "id": "80149590-0411-443d-9a0b-1f7702c896bb",
   "metadata": {},
   "outputs": [],
   "source": [
    "from pyspark.sql import SparkSession\n",
    "from pyspark.sql.window import Window\n",
    "from pyspark.sql.functions import *\n",
    "from pyspark.sql.types import *"
   ]
  },
  {
   "cell_type": "code",
   "execution_count": 2,
   "id": "238666b8-e3bb-40e0-b79c-4c94695ac55a",
   "metadata": {},
   "outputs": [
    {
     "name": "stderr",
     "output_type": "stream",
     "text": [
      "25/04/22 16:12:05 WARN Utils: Your hostname, TTNPL-kanishkasharma resolves to a loopback address: 127.0.1.1; using 192.168.1.51 instead (on interface wlp0s20f3)\n",
      "25/04/22 16:12:05 WARN Utils: Set SPARK_LOCAL_IP if you need to bind to another address\n",
      "Setting default log level to \"WARN\".\n",
      "To adjust logging level use sc.setLogLevel(newLevel). For SparkR, use setLogLevel(newLevel).\n",
      "25/04/22 16:12:06 WARN NativeCodeLoader: Unable to load native-hadoop library for your platform... using builtin-java classes where applicable\n",
      "25/04/22 16:12:06 WARN Utils: Service 'SparkUI' could not bind on port 4040. Attempting port 4041.\n"
     ]
    }
   ],
   "source": [
    "spark = SparkSession.builder.appName(\"Project\").getOrCreate()"
   ]
  },
  {
   "cell_type": "code",
   "execution_count": 3,
   "id": "2a627e37-fa1a-4a48-82ed-79b9c3426964",
   "metadata": {},
   "outputs": [],
   "source": [
    "df_calender = spark.read.option(\"header\", \"true\") \\\n",
    "                   .option(\"inferSchema\", \"true\") \\\n",
    "                   .csv(\"employee_leave_calendar_data.csv\")"
   ]
  },
  {
   "cell_type": "code",
   "execution_count": 4,
   "id": "30934c4b-841c-43c4-9ba8-d8f4df9e5588",
   "metadata": {},
   "outputs": [],
   "source": [
    "df_leave_quota = spark.read.option(\"header\", \"true\") \\\n",
    "                   .option(\"inferSchema\", \"true\") \\\n",
    "                   .csv(\"employee_leave_quota_data.csv\")"
   ]
  },
  {
   "cell_type": "code",
   "execution_count": 5,
   "id": "7a280420-d392-4f78-ba4e-12e1cbcd99d1",
   "metadata": {},
   "outputs": [
    {
     "name": "stderr",
     "output_type": "stream",
     "text": [
      "                                                                                "
     ]
    }
   ],
   "source": [
    "df_emp_leave = spark.read.option(\"header\", \"true\") \\\n",
    "                   .option(\"inferSchema\", \"true\") \\\n",
    "                   .csv(\"employee_leave_data.csv\")"
   ]
  },
  {
   "cell_type": "markdown",
   "id": "18f6a1f6-c6b5-44bf-b288-f15ea086ebb1",
   "metadata": {},
   "source": [
    "Generate a daily table (at 7:00 UTC) showing currently active employees by designation and count.\n",
    "\n",
    "Active Employees by Designation (Daily @ 7:00 UTC)\n",
    "Input:\n",
    "\n",
    "employee_timeframe_data (already processed and includes status)\n",
    "\n",
    "Logic:\n",
    "\n",
    "Filter records where status = 'Active'\n",
    "\n",
    "Group by designation\n",
    "\n",
    "Count employees\n",
    "\n"
   ]
  },
  {
   "cell_type": "code",
   "execution_count": null,
   "id": "eec8c6e6-93d3-43f9-be5a-db9ef1a57140",
   "metadata": {},
   "outputs": [],
   "source": [
    "#df = spark.read.format(\"delta\").load(\"s3://your-bucket/employee_timeframe\")\n",
    "\n",
    "# Filter for active records\n",
    "df_active = df.filter(col(\"status\") == \"Active\")\n",
    "\n",
    "# Group by designation and count\n",
    "df_designation_count = df_active.groupBy(\"designation\").count()\n",
    "\n",
    "# Save to S3\n",
    "#df_designation_count.write.mode(\"overwrite\").format(\"parquet\").save(\"s3://your-bucket/reports/active_employee_count/\")"
   ]
  }
 ],
 "metadata": {
  "kernelspec": {
   "display_name": "Python 3 (ipykernel)",
   "language": "python",
   "name": "python3"
  },
  "language_info": {
   "codemirror_mode": {
    "name": "ipython",
    "version": 3
   },
   "file_extension": ".py",
   "mimetype": "text/x-python",
   "name": "python",
   "nbconvert_exporter": "python",
   "pygments_lexer": "ipython3",
   "version": "3.10.12"
  }
 },
 "nbformat": 4,
 "nbformat_minor": 5
}
